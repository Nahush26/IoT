{
  "nbformat": 4,
  "nbformat_minor": 0,
  "metadata": {
    "colab": {
      "name": "IoT.ipynb",
      "provenance": []
    },
    "kernelspec": {
      "name": "python3",
      "display_name": "Python 3"
    },
    "language_info": {
      "name": "python"
    },
    "gpuClass": "standard"
  },
  "cells": [
    {
      "cell_type": "code",
      "execution_count": null,
      "metadata": {
        "colab": {
          "base_uri": "https://localhost:8080/"
        },
        "id": "cvRoZ272ImAF",
        "outputId": "70e75c7a-e311-41ea-ec50-67b42d718c59"
      },
      "outputs": [
        {
          "output_type": "stream",
          "name": "stdout",
          "text": [
            "Mounted at /content/drive\n"
          ]
        }
      ],
      "source": [
        "from google.colab import drive\n",
        "drive.mount('/content/drive')"
      ]
    },
    {
      "cell_type": "code",
      "source": [
        "import pandas as pd\n",
        "from sklearn.preprocessing import OrdinalEncoder\n",
        "import matplotlib.pyplot as plt\n",
        "import numpy as np\n",
        "from sklearn.model_selection import StratifiedShuffleSplit as skf\n",
        "from sklearn.preprocessing import MinMaxScaler as mms\n",
        "import torch\n",
        "import torch.nn as nn\n",
        "from torch.utils.data import Dataset, DataLoader\n",
        "import torch.optim as optim\n",
        "import os\n",
        "from tqdm import tqdm\n",
        "from time import sleep\n",
        "import random\n",
        "import torch.nn.functional as F\n",
        "from sklearn.metrics import matthews_corrcoef"
      ],
      "metadata": {
        "id": "SLvg5VhSIs55"
      },
      "execution_count": null,
      "outputs": []
    },
    {
      "cell_type": "code",
      "source": [
        "def set_seed(seed = 42):\n",
        "    '''Sets the seed of the entire notebook so results are the same every time we run.\n",
        "    This is for REPRODUCIBILITY.'''\n",
        "    np.random.seed(seed)\n",
        "    random.seed(seed)\n",
        "    torch.manual_seed(seed)\n",
        "    torch.cuda.manual_seed(seed)\n",
        "    # When running on the CuDNN backend, two further options must be set\n",
        "    torch.backends.cudnn.deterministic = True\n",
        "    torch.backends.cudnn.benchmark = False\n",
        "    # Set a fixed value for the hash seed\n",
        "    os.environ['PYTHONHASHSEED'] = str(seed)\n",
        "    print('> SEEDING DONE')\n",
        "    \n",
        "set_seed()"
      ],
      "metadata": {
        "colab": {
          "base_uri": "https://localhost:8080/"
        },
        "id": "uWPwGIcpGUA1",
        "outputId": "d8531862-8eb3-47cd-d42a-c93d4a74d1c8"
      },
      "execution_count": null,
      "outputs": [
        {
          "output_type": "stream",
          "name": "stdout",
          "text": [
            "> SEEDING DONE\n"
          ]
        }
      ]
    },
    {
      "cell_type": "code",
      "source": [
        "X = pd.read_csv('/content/drive/MyDrive/cs231n/Wednesday-14-02-2018_TrafficForML_CICFlowMeter.csv')"
      ],
      "metadata": {
        "id": "il93LqUUJrqu"
      },
      "execution_count": null,
      "outputs": []
    },
    {
      "cell_type": "code",
      "source": [
        "drop_list = []\n",
        "enc_list = []\n",
        "for f in X.columns:\n",
        "   if(X[f].nunique() == 1):\n",
        "    drop_list.append(f)\n",
        "   elif(X[f].nunique()<11):\n",
        "     enc_list.append(f)\n",
        "   else:\n",
        "     print(f, \" \" ,X[f].nunique())\n",
        "\n",
        "\n",
        "    "
      ],
      "metadata": {
        "colab": {
          "base_uri": "https://localhost:8080/"
        },
        "id": "EAlid_olMMnz",
        "outputId": "6381871e-3beb-48d9-bd94-82bc4c62f0dd"
      },
      "execution_count": null,
      "outputs": [
        {
          "output_type": "stream",
          "name": "stdout",
          "text": [
            "Dst Port   18567\n",
            "Timestamp   32043\n",
            "Flow Duration   389493\n",
            "Tot Fwd Pkts   751\n",
            "Tot Bwd Pkts   988\n",
            "TotLen Fwd Pkts   5842\n",
            "TotLen Bwd Pkts   15656\n",
            "Fwd Pkt Len Max   1390\n",
            "Fwd Pkt Len Min   112\n",
            "Fwd Pkt Len Mean   17879\n",
            "Fwd Pkt Len Std   27501\n",
            "Bwd Pkt Len Max   958\n",
            "Bwd Pkt Len Min   270\n",
            "Bwd Pkt Len Mean   24524\n",
            "Bwd Pkt Len Std   28866\n",
            "Flow Byts/s   454332\n",
            "Flow Pkts/s   417167\n",
            "Flow IAT Mean   418622\n",
            "Flow IAT Std   416669\n",
            "Flow IAT Max   295378\n",
            "Flow IAT Min   66507\n",
            "Fwd IAT Tot   352376\n",
            "Fwd IAT Mean   373758\n",
            "Fwd IAT Std   341531\n",
            "Fwd IAT Max   303763\n",
            "Fwd IAT Min   89620\n",
            "Bwd IAT Tot   293735\n",
            "Bwd IAT Mean   309260\n",
            "Bwd IAT Std   330389\n",
            "Bwd IAT Max   222886\n",
            "Bwd IAT Min   108796\n",
            "Fwd Header Len   1237\n",
            "Bwd Header Len   1843\n",
            "Fwd Pkts/s   410765\n",
            "Bwd Pkts/s   359869\n",
            "Pkt Len Min   80\n",
            "Pkt Len Max   1139\n",
            "Pkt Len Mean   36030\n",
            "Pkt Len Std   42554\n",
            "Pkt Len Var   42707\n",
            "Down/Up Ratio   33\n",
            "Pkt Size Avg   35682\n",
            "Fwd Seg Size Avg   17879\n",
            "Bwd Seg Size Avg   24523\n",
            "Subflow Fwd Pkts   751\n",
            "Subflow Fwd Byts   5842\n",
            "Subflow Bwd Pkts   988\n",
            "Subflow Bwd Byts   15656\n",
            "Init Fwd Win Byts   3308\n",
            "Init Bwd Win Byts   3547\n",
            "Fwd Act Data Pkts   112\n",
            "Active Mean   73591\n",
            "Active Std   55382\n",
            "Active Max   71437\n",
            "Active Min   38864\n",
            "Idle Mean   80419\n",
            "Idle Std   57847\n",
            "Idle Max   59134\n",
            "Idle Min   69046\n"
          ]
        }
      ]
    },
    {
      "cell_type": "code",
      "source": [
        "X['Label'].value_counts()"
      ],
      "metadata": {
        "colab": {
          "base_uri": "https://localhost:8080/"
        },
        "id": "MogYTmYpfiOE",
        "outputId": "dfa8a406-40f8-4f1f-d44f-0dd7bb20b29a"
      },
      "execution_count": null,
      "outputs": [
        {
          "output_type": "execute_result",
          "data": {
            "text/plain": [
              "Benign            667626\n",
              "FTP-BruteForce    193360\n",
              "SSH-Bruteforce    187589\n",
              "Name: Label, dtype: int64"
            ]
          },
          "metadata": {},
          "execution_count": 55
        }
      ]
    },
    {
      "cell_type": "markdown",
      "source": [
        "**Preparing the data and the dataset**"
      ],
      "metadata": {
        "id": "xbhQadOAyFJJ"
      }
    },
    {
      "cell_type": "code",
      "source": [
        "\n",
        "targets = X['Label']\n",
        "t_enc = OrdinalEncoder(dtype = np.int64)\n",
        "targets = t_enc.fit_transform(targets.to_numpy().reshape(-1,1))\n",
        "enc_list.remove('Label')\n",
        "f_enc = OrdinalEncoder(dtype = np.float32)\n",
        "cat_features = X[enc_list]\n",
        "cat_features = f_enc.fit_transform(cat_features)\n",
        "ax = X.drop(labels = enc_list + drop_list + ['Timestamp' , 'Dst Port' , 'Label','Flow Byts/s', 'Flow Pkts/s'], axis = 1)\n",
        "ax = ax.to_numpy()\n",
        "#mx_c = ax.keys()\n",
        "splitter = skf(n_splits = 5 , test_size = 0.2 , random_state = 42)\n"
      ],
      "metadata": {
        "colab": {
          "base_uri": "https://localhost:8080/"
        },
        "id": "q4XeA2STjdG2",
        "outputId": "67bde1a7-75ab-4b7a-aa5e-bca1ab37f0d8"
      },
      "execution_count": null,
      "outputs": [
        {
          "output_type": "stream",
          "name": "stdout",
          "text": [
            "(1048575, 1) int64\n",
            "['Protocol', 'Fwd PSH Flags', 'FIN Flag Cnt', 'SYN Flag Cnt', 'RST Flag Cnt', 'PSH Flag Cnt', 'ACK Flag Cnt', 'URG Flag Cnt', 'ECE Flag Cnt', 'Fwd Seg Size Min']\n",
            "(1048575, 10)\n"
          ]
        }
      ]
    },
    {
      "cell_type": "code",
      "source": [
        "class iot_data(Dataset):\n",
        "  def __init__(self,sample , targets = targets):\n",
        "    self.sample = sample\n",
        "    self.targets = targets \n",
        "  def __len__(self):\n",
        "    return self.sample.shape[0]\n",
        "  def __getitem__(self,idx):\n",
        "    if(idx> self.sample.shape[0]):\n",
        "      print(idx, self.sample.shape[0])\n",
        "    o1 = torch.from_numpy(self.sample[idx]).float()\n",
        "    o2 =torch.from_numpy(self.targets[idx])\n",
        "    return o1,o2"
      ],
      "metadata": {
        "id": "ycxnxQj89FEo"
      },
      "execution_count": null,
      "outputs": []
    },
    {
      "cell_type": "markdown",
      "source": [
        "**Creating the model**"
      ],
      "metadata": {
        "id": "KPiPBbv7ybo9"
      }
    },
    {
      "cell_type": "code",
      "source": [
        "class encoder(nn.Module):\n",
        "  def __init__(self,in_features =65 , dim_reduc = 16):\n",
        "    super(encoder,self).__init__()\n",
        "    self.l1 = nn.Linear(in_features = in_features,out_features = 256)\n",
        "    self.relu = nn.ReLU(inplace = True)\n",
        "    self.l2 = nn.Linear(in_features = 256 , out_features = 256)\n",
        "    self.l3 = nn.Linear(in_features = 256 , out_features = dim_reduc*4)\n",
        "    self.l4 = nn.Linear(in_features = dim_reduc*4 , out_features = dim_reduc)\n",
        "  def forward(self,x):\n",
        "    x = self.l1(x)\n",
        "    x = self.relu(x)\n",
        "    x = self.l2(x)\n",
        "    x = self.relu(x)\n",
        "    x = self.l3(x)\n",
        "    x = self.relu(x)\n",
        "    output = self.l4(x)\n",
        "    return output\n"
      ],
      "metadata": {
        "id": "ubOV09R4o7VQ"
      },
      "execution_count": null,
      "outputs": []
    },
    {
      "cell_type": "code",
      "source": [
        "class decoder(nn.Module):\n",
        "  def __init__(self,in_features = 16 , out_features = 65):\n",
        "    super(decoder,self).__init__()\n",
        "    self.l1 = nn.Linear(in_features = in_features , out_features = in_features*4)\n",
        "    self.relu = nn.ReLU(inplace = True)\n",
        "    self.l2 = nn.Linear(in_features = in_features*4 , out_features = 256)\n",
        "    self.l3 = nn.Linear(in_features = 256 , out_features = 256 )\n",
        "    self.l4 = nn.Linear(in_features = 256 , out_features = 65) \n",
        "  def forward(self,x):\n",
        "    x = self.l1(x)\n",
        "    x = self.relu(x)\n",
        "    x = self.l2(x)\n",
        "    x = self.relu(x)\n",
        "    x = self.l3(x)\n",
        "    x = self.relu(x)\n",
        "    output = self.l4(x)\n",
        "    return output\n"
      ],
      "metadata": {
        "id": "m2ablhHZqGSp"
      },
      "execution_count": null,
      "outputs": []
    },
    {
      "cell_type": "code",
      "source": [
        "class aux_classifier(nn.Module):\n",
        "  def __init__(self,in_features = 16 , num_classes = 3):\n",
        "    super(aux_classifier,self).__init__()\n",
        "    self.l1 = nn.Linear(in_features = in_features , out_features = in_features*4)\n",
        "    self.relu = nn.ReLU(inplace = True)\n",
        "    self.l2 = nn.Linear(in_features = in_features*4 , out_features = 256)\n",
        "    self.l3 = nn.Linear(in_features = 256 , out_features = 3)\n",
        "  def forward(self,x):\n",
        "    x = self.l1(x)\n",
        "    x = self.relu(x)\n",
        "    x = self.l2(x)\n",
        "    x = self.relu(x)\n",
        "    output = self.l3(x)\n",
        "    return output"
      ],
      "metadata": {
        "id": "6o3w1RWBPLd0"
      },
      "execution_count": null,
      "outputs": []
    },
    {
      "cell_type": "code",
      "source": [
        "class model_maker(nn.Module):\n",
        "  def __init__(self,in_features = 65 ,num_classes = 3 ,dim_reduc = 16 ):\n",
        "    super(model_maker,self).__init__()\n",
        "    self.enc = encoder(in_features = in_features , dim_reduc = dim_reduc)\n",
        "    self.ac  = aux_classifier(in_features = dim_reduc , num_classes = num_classes)\n",
        "    self.dec = decoder(in_features = dim_reduc , out_features = in_features)\n",
        "  def forward(self,x):\n",
        "    x = self.enc(x)\n",
        "    output1 = self.ac(x)\n",
        "    output2 = self.dec(x)\n",
        "    return output1,output2,x\n"
      ],
      "metadata": {
        "id": "zMRvXr5anSC6"
      },
      "execution_count": null,
      "outputs": []
    },
    {
      "cell_type": "code",
      "source": [
        "device = torch.device(\"cuda:0\" if torch.cuda.is_available() else \"cpu\")\n",
        "if(torch.cuda.is_available()):\n",
        "  print(\"The device is \" + torch.cuda.get_device_name())\n",
        "else:\n",
        "    print(\"Using cpu no gpu available\")\n",
        "print('\\n',device)"
      ],
      "metadata": {
        "colab": {
          "base_uri": "https://localhost:8080/"
        },
        "id": "d0hoSo66IdH_",
        "outputId": "fd63a535-d3fd-4c1a-c9b8-343fdb32b12c"
      },
      "execution_count": null,
      "outputs": [
        {
          "output_type": "stream",
          "name": "stdout",
          "text": [
            "Using cpu no gpu available\n",
            "\n",
            " cpu\n"
          ]
        }
      ]
    },
    {
      "cell_type": "markdown",
      "source": [
        "**Classification loss function : Focal Loss**"
      ],
      "metadata": {
        "id": "Rv-bK83qyjgu"
      }
    },
    {
      "cell_type": "code",
      "source": [
        "\n",
        "class FocalLoss(nn.CrossEntropyLoss):\n",
        "\n",
        "    def __init__(self, gamma, alpha=None, ignore_index=-100, reduction='mean'):\n",
        "        super().__init__(weight=alpha, ignore_index=ignore_index, reduction='none')\n",
        "        self.reduction = reduction\n",
        "        self.gamma = gamma\n",
        "\n",
        "    def forward(self, input_, target):\n",
        "        cross_entropy = super().forward(input_, target)\n",
        "        target = target * (target != self.ignore_index).long()\n",
        "        input_prob = torch.gather(F.softmax(input_, 1), 1, target.unsqueeze(1))\n",
        "        loss = torch.pow(1 - input_prob, self.gamma) * cross_entropy\n",
        "        return torch.mean(loss)\n",
        "               "
      ],
      "metadata": {
        "id": "MIaq8xISsc55"
      },
      "execution_count": null,
      "outputs": []
    },
    {
      "cell_type": "markdown",
      "source": [
        "**Creating the training loop.**"
      ],
      "metadata": {
        "id": "sexzxjHIysQm"
      }
    },
    {
      "cell_type": "code",
      "source": [
        "\n",
        "def trainer(targets = targets,ax  = ax):\n",
        "\n",
        "  H = splitter.split(X = X , y = targets)\n",
        "  criterion1 = nn.MSELoss()\n",
        "  criterion2 = FocalLoss(gamma = 2)\n",
        "  Out_of_fold = 0.0\n",
        "  print(f\"Number of folds to be trained on : {5}\")\n",
        "  for folds,(trainind,testind) in enumerate(H):\n",
        "    if(folds < 3):\n",
        "      continue\n",
        "    best_acc = 0.0 \n",
        "    print(f\"RUNNING FOLD {folds} \\n\\n\")\n",
        "    scaler = mms()\n",
        "    ax_copy = ax.copy()\n",
        "    ax[trainind] = scaler.fit_transform(ax[trainind])\n",
        "    ax[testind]  = scaler.transform(ax[testind])\n",
        "    X_train = np.concatenate([ax,cat_features],axis = 1)\n",
        "    ax = ax_copy\n",
        "    print(X_train.shape)\n",
        "    #H = splitter.split(X = ax , y = targets)\n",
        "    iot_dataset= iot_data(sample = X_train, targets = targets)\n",
        "    \n",
        "    train_subsampler = torch.utils.data.SubsetRandomSampler(trainind)\n",
        "    test_subsampler = torch.utils.data.SubsetRandomSampler(testind)\n",
        "    trainloader = torch.utils.data.DataLoader(\n",
        "              iot_dataset, \n",
        "              batch_size=512, sampler=train_subsampler)\n",
        "    testloader = torch.utils.data.DataLoader(\n",
        "                      iot_dataset,\n",
        "                      batch_size=512*64, sampler=test_subsampler)\n",
        "    print(f\"/n/n/n Currently running fold {folds}\")\n",
        "    print(\"Creating new model instance..\")\n",
        "    model = model_maker()\n",
        "    optimizer = optim.AdamW(model.parameters(), lr=1e-3,weight_decay = 1e-4)\n",
        "\n",
        "    model.to(device)\n",
        "    epochs = 16\n",
        "    for epoch in range(1,epochs+1):\n",
        "      model.train()\n",
        "      scores = []\n",
        "      targets_x = []\n",
        "      loss_r = 0.0\n",
        "      loss_c = 0.0\n",
        "      i = 0\n",
        "      print(f\"Current epoch : {epoch}\")\n",
        "      with tqdm(trainloader, unit=\"batch\") as tepoch:\n",
        "        for data,target in tepoch:\n",
        "          data = data.to(device)\n",
        "          target = target.to(device)\n",
        "          target = torch.reshape(target,(target.shape[0],))\n",
        "          o1,o2,x  = model(data)\n",
        "    \n",
        "          #print(o1.shape , target.shape)\n",
        "          loss_classification = criterion2(o1,target) \n",
        "          loss_reconstruction = criterion1(o2,data)\n",
        "          loss = loss_classification + loss_reconstruction\n",
        "          targets_x.append(target.detach().cpu().numpy())\n",
        "          scores.append(o1.detach().cpu().numpy())\n",
        "          optimizer.zero_grad()\n",
        "          loss.backward()\n",
        "          optimizer.step()\n",
        "         \n",
        "          tepoch.set_postfix(loss_classification=loss_classification.item() , loss_reconstruction = loss_reconstruction.item() , net_loss = loss.item())\n",
        "          del data,target,o1,o2,x\n",
        "          sleep(0.1)\n",
        "      train_acc  = np.mean(np.argmax(np.concatenate(scores,axis = 0),axis = 1) == np.concatenate(targets_x,axis = 0 ))*100\n",
        "      print(train_acc)\n",
        "      \n",
        "      targets_x = []\n",
        "      scores = []\n",
        "      with torch.no_grad():\n",
        "          model.eval()\n",
        "          with tqdm(testloader,unit = \"batch\") as tepoch:\n",
        "            for data,target in tepoch:\n",
        "              data = data.to(device)\n",
        "              target = target.to(device)\n",
        "              target = torch.reshape(target,(target.shape[0],))\n",
        "              o1,o2,x = model(data)\n",
        "              loss_classification = criterion2(o1,target) \n",
        "              loss_reconstruction = criterion1(o2,data)\n",
        "              targets_x.append(target.detach().cpu().numpy())\n",
        "              scores.append(o1.detach().cpu().numpy())\n",
        "              loss_r+=loss_reconstruction.item()\n",
        "              loss_c+=loss_classification.item()\n",
        "              i+=1\n",
        "              del o1,o2,target,data,x\n",
        "      loss_r/=i\n",
        "      loss_c/=i\n",
        "      #loss_classification_net[folds].append(loss_c)\n",
        "      #loss_reconstruction_net[folds].append(loss_r)\n",
        "\n",
        "      test_acc  = np.mean(np.argmax(np.concatenate(scores,axis = 0),axis = 1) == np.concatenate(targets_x,axis = 0 ))*100\n",
        "      print(f\"Test accuracy {test_acc} Test CE loss {loss_c} Test RCN loss {loss_r}\")\n",
        "      if(best_acc<test_acc):\n",
        "        print(f\"New best model found {best_acc}  --->  {test_acc} \")\n",
        "        best_acc = test_acc\n",
        "        print(\"Saving model\")\n",
        "        torch.save(model.state_dict() , 'drive/MyDrive/cs231n/best_model_new_fold_'+str(folds)+'.pth')\n",
        "    #plt.plot(np.arange(1,21,1),loss_classification_net )\n",
        "    #plt.show()\n",
        "    #plt.plot(np.arange(1,21,1),loss_reconstruction_net)\n",
        "    #plt.show()\n",
        "    Out_of_fold+=best_acc/5\n",
        "  print(\"Out of fold accuracy is \" + str(Out_of_fold))\n",
        "\n"
      ],
      "metadata": {
        "id": "99T175Wgs9a-"
      },
      "execution_count": null,
      "outputs": []
    },
    {
      "cell_type": "code",
      "source": [
        "trainer()"
      ],
      "metadata": {
        "colab": {
          "base_uri": "https://localhost:8080/"
        },
        "id": "dT8p0YW2s_Ev",
        "outputId": "adbd6ef0-25f0-4bb3-df00-883bc982a6e2"
      },
      "execution_count": null,
      "outputs": [
        {
          "output_type": "stream",
          "name": "stdout",
          "text": [
            "Number of folds to be trained on : 5\n",
            "RUNNING FOLD 3 \n",
            "\n",
            "\n",
            "(1048575, 65)\n",
            "/n/n/n Currently running fold 3\n",
            "Creating new model instance..\n",
            "Current epoch : 1\n"
          ]
        },
        {
          "output_type": "stream",
          "name": "stderr",
          "text": [
            "100%|██████████| 1639/1639 [03:40<00:00,  7.45batch/s, loss_classification=2.04e-6, loss_reconstruction=0.00024, net_loss=0.000242]\n"
          ]
        },
        {
          "output_type": "stream",
          "name": "stdout",
          "text": [
            "98.98457430322104\n"
          ]
        },
        {
          "output_type": "stream",
          "name": "stderr",
          "text": [
            "100%|██████████| 7/7 [00:05<00:00,  1.33batch/s]\n"
          ]
        },
        {
          "output_type": "stream",
          "name": "stdout",
          "text": [
            "Test accuracy 99.84884247669457 Test CE loss 1.3455524432564353e-05 Test RCN loss 0.00017810877138150057\n",
            "New best model found 0.0  --->  99.84884247669457 \n",
            "Saving model\n",
            "Current epoch : 2\n"
          ]
        },
        {
          "output_type": "stream",
          "name": "stderr",
          "text": [
            "100%|██████████| 1639/1639 [03:40<00:00,  7.43batch/s, loss_classification=7.7e-8, loss_reconstruction=6.02e-5, net_loss=6.03e-5]\n"
          ]
        },
        {
          "output_type": "stream",
          "name": "stdout",
          "text": [
            "99.88663185752092\n"
          ]
        },
        {
          "output_type": "stream",
          "name": "stderr",
          "text": [
            "100%|██████████| 7/7 [00:05<00:00,  1.31batch/s]\n"
          ]
        },
        {
          "output_type": "stream",
          "name": "stdout",
          "text": [
            "Test accuracy 99.91083136637819 Test CE loss 4.829983725228106e-06 Test RCN loss 8.109995334442439e-05\n",
            "New best model found 99.84884247669457  --->  99.91083136637819 \n",
            "Saving model\n",
            "Current epoch : 3\n"
          ]
        },
        {
          "output_type": "stream",
          "name": "stderr",
          "text": [
            "100%|██████████| 1639/1639 [03:44<00:00,  7.32batch/s, loss_classification=3.28e-5, loss_reconstruction=0.00163, net_loss=0.00166]\n"
          ]
        },
        {
          "output_type": "stream",
          "name": "stdout",
          "text": [
            "99.6565577092721\n"
          ]
        },
        {
          "output_type": "stream",
          "name": "stderr",
          "text": [
            "100%|██████████| 7/7 [00:05<00:00,  1.32batch/s]\n"
          ]
        },
        {
          "output_type": "stream",
          "name": "stdout",
          "text": [
            "Test accuracy 99.65095486731992 Test CE loss 0.00017355140880681574 Test RCN loss 0.0012286945379206113\n",
            "Current epoch : 4\n"
          ]
        },
        {
          "output_type": "stream",
          "name": "stderr",
          "text": [
            "100%|██████████| 1639/1639 [03:40<00:00,  7.42batch/s, loss_classification=3.24e-7, loss_reconstruction=3.93e-5, net_loss=3.96e-5]\n"
          ]
        },
        {
          "output_type": "stream",
          "name": "stdout",
          "text": [
            "99.7800586510264\n"
          ]
        },
        {
          "output_type": "stream",
          "name": "stderr",
          "text": [
            "100%|██████████| 7/7 [00:05<00:00,  1.28batch/s]\n"
          ]
        },
        {
          "output_type": "stream",
          "name": "stdout",
          "text": [
            "Test accuracy 99.85885606656653 Test CE loss 1.0958763336280494e-05 Test RCN loss 4.8569273141246026e-05\n",
            "Current epoch : 5\n"
          ]
        },
        {
          "output_type": "stream",
          "name": "stderr",
          "text": [
            "100%|██████████| 1639/1639 [03:40<00:00,  7.42batch/s, loss_classification=2e-7, loss_reconstruction=4.03e-5, net_loss=4.05e-5]\n"
          ]
        },
        {
          "output_type": "stream",
          "name": "stdout",
          "text": [
            "99.89402284052166\n"
          ]
        },
        {
          "output_type": "stream",
          "name": "stderr",
          "text": [
            "100%|██████████| 7/7 [00:05<00:00,  1.33batch/s]\n"
          ]
        },
        {
          "output_type": "stream",
          "name": "stdout",
          "text": [
            "Test accuracy 99.90129461411917 Test CE loss 4.395931715147786e-06 Test RCN loss 6.971106839565826e-05\n",
            "Current epoch : 6\n"
          ]
        },
        {
          "output_type": "stream",
          "name": "stderr",
          "text": [
            "100%|██████████| 1639/1639 [03:41<00:00,  7.41batch/s, loss_classification=9.84e-9, loss_reconstruction=1.38e-5, net_loss=1.39e-5]\n"
          ]
        },
        {
          "output_type": "stream",
          "name": "stdout",
          "text": [
            "99.92299072550843\n"
          ]
        },
        {
          "output_type": "stream",
          "name": "stderr",
          "text": [
            "100%|██████████| 7/7 [00:05<00:00,  1.29batch/s]\n"
          ]
        },
        {
          "output_type": "stream",
          "name": "stdout",
          "text": [
            "Test accuracy 99.91512290489474 Test CE loss 1.8615941468981743e-06 Test RCN loss 2.424018410757916e-05\n",
            "New best model found 99.91083136637819  --->  99.91512290489474 \n",
            "Saving model\n",
            "Current epoch : 7\n"
          ]
        },
        {
          "output_type": "stream",
          "name": "stderr",
          "text": [
            "100%|██████████| 1639/1639 [03:41<00:00,  7.41batch/s, loss_classification=3.03e-8, loss_reconstruction=1.62e-5, net_loss=1.62e-5]\n"
          ]
        },
        {
          "output_type": "stream",
          "name": "stdout",
          "text": [
            "99.93968004196171\n"
          ]
        },
        {
          "output_type": "stream",
          "name": "stderr",
          "text": [
            "100%|██████████| 7/7 [00:05<00:00,  1.20batch/s]\n"
          ]
        },
        {
          "output_type": "stream",
          "name": "stdout",
          "text": [
            "Test accuracy 99.9728202560618 Test CE loss 1.3771327920559479e-06 Test RCN loss 2.3872505542905336e-05\n",
            "New best model found 99.91512290489474  --->  99.9728202560618 \n",
            "Saving model\n",
            "Current epoch : 8\n"
          ]
        },
        {
          "output_type": "stream",
          "name": "stderr",
          "text": [
            "100%|██████████| 1639/1639 [03:41<00:00,  7.39batch/s, loss_classification=6.87e-8, loss_reconstruction=4.34e-5, net_loss=4.35e-5]\n"
          ]
        },
        {
          "output_type": "stream",
          "name": "stdout",
          "text": [
            "99.90665903726486\n"
          ]
        },
        {
          "output_type": "stream",
          "name": "stderr",
          "text": [
            "100%|██████████| 7/7 [00:06<00:00,  1.12batch/s]\n"
          ]
        },
        {
          "output_type": "stream",
          "name": "stdout",
          "text": [
            "Test accuracy 99.9203681186372 Test CE loss 4.418106527737109e-06 Test RCN loss 0.00010095985843301085\n",
            "Current epoch : 9\n"
          ]
        },
        {
          "output_type": "stream",
          "name": "stderr",
          "text": [
            "100%|██████████| 1639/1639 [03:41<00:00,  7.39batch/s, loss_classification=1.19e-7, loss_reconstruction=6.89e-5, net_loss=6.9e-5]\n"
          ]
        },
        {
          "output_type": "stream",
          "name": "stdout",
          "text": [
            "99.90689745607133\n"
          ]
        },
        {
          "output_type": "stream",
          "name": "stderr",
          "text": [
            "100%|██████████| 7/7 [00:05<00:00,  1.27batch/s]\n"
          ]
        },
        {
          "output_type": "stream",
          "name": "stdout",
          "text": [
            "Test accuracy 99.91226187921704 Test CE loss 4.525145771237606e-06 Test RCN loss 3.676385313156061e-05\n",
            "Current epoch : 10\n"
          ]
        },
        {
          "output_type": "stream",
          "name": "stderr",
          "text": [
            "100%|██████████| 1639/1639 [03:41<00:00,  7.41batch/s, loss_classification=3.08e-8, loss_reconstruction=6.55e-6, net_loss=6.58e-6]\n"
          ]
        },
        {
          "output_type": "stream",
          "name": "stdout",
          "text": [
            "99.89545335336051\n"
          ]
        },
        {
          "output_type": "stream",
          "name": "stderr",
          "text": [
            "100%|██████████| 7/7 [00:05<00:00,  1.29batch/s]\n"
          ]
        },
        {
          "output_type": "stream",
          "name": "stdout",
          "text": [
            "Test accuracy 99.86219392985718 Test CE loss 9.535094769879443e-06 Test RCN loss 1.8717411356712027e-05\n",
            "Current epoch : 11\n"
          ]
        },
        {
          "output_type": "stream",
          "name": "stderr",
          "text": [
            "100%|██████████| 1639/1639 [03:41<00:00,  7.40batch/s, loss_classification=9.22e-8, loss_reconstruction=3.67e-5, net_loss=3.68e-5]\n"
          ]
        },
        {
          "output_type": "stream",
          "name": "stdout",
          "text": [
            "99.90499010561953\n"
          ]
        },
        {
          "output_type": "stream",
          "name": "stderr",
          "text": [
            "100%|██████████| 7/7 [00:05<00:00,  1.26batch/s]\n"
          ]
        },
        {
          "output_type": "stream",
          "name": "stdout",
          "text": [
            "Test accuracy 99.91130820399114 Test CE loss 4.7242022316952766e-06 Test RCN loss 1.9930099369958043e-05\n",
            "Current epoch : 12\n"
          ]
        },
        {
          "output_type": "stream",
          "name": "stderr",
          "text": [
            "100%|██████████| 1639/1639 [03:41<00:00,  7.39batch/s, loss_classification=2.39e-7, loss_reconstruction=5.57e-6, net_loss=5.81e-6]\n"
          ]
        },
        {
          "output_type": "stream",
          "name": "stdout",
          "text": [
            "99.91524211429798\n"
          ]
        },
        {
          "output_type": "stream",
          "name": "stderr",
          "text": [
            "100%|██████████| 7/7 [00:05<00:00,  1.24batch/s]\n"
          ]
        },
        {
          "output_type": "stream",
          "name": "stdout",
          "text": [
            "Test accuracy 99.91989128102425 Test CE loss 3.2890600972937785e-06 Test RCN loss 1.3970051440992393e-05\n",
            "Current epoch : 13\n"
          ]
        },
        {
          "output_type": "stream",
          "name": "stderr",
          "text": [
            "100%|██████████| 1639/1639 [03:41<00:00,  7.41batch/s, loss_classification=3.9e-6, loss_reconstruction=5.31e-6, net_loss=9.2e-6]\n"
          ]
        },
        {
          "output_type": "stream",
          "name": "stdout",
          "text": [
            "99.92942803328326\n"
          ]
        },
        {
          "output_type": "stream",
          "name": "stderr",
          "text": [
            "100%|██████████| 7/7 [00:05<00:00,  1.22batch/s]\n"
          ]
        },
        {
          "output_type": "stream",
          "name": "stdout",
          "text": [
            "Test accuracy 99.96471401664164 Test CE loss 1.481538073936203e-06 Test RCN loss 1.293262799403497e-05\n",
            "Current epoch : 14\n"
          ]
        },
        {
          "output_type": "stream",
          "name": "stderr",
          "text": [
            "100%|██████████| 1639/1639 [03:40<00:00,  7.42batch/s, loss_classification=1.81e-9, loss_reconstruction=2.43e-5, net_loss=2.43e-5]\n"
          ]
        },
        {
          "output_type": "stream",
          "name": "stdout",
          "text": [
            "99.94790549078512\n"
          ]
        },
        {
          "output_type": "stream",
          "name": "stderr",
          "text": [
            "100%|██████████| 7/7 [00:05<00:00,  1.25batch/s]\n"
          ]
        },
        {
          "output_type": "stream",
          "name": "stdout",
          "text": [
            "Test accuracy 99.9194144434113 Test CE loss 2.180506352747865e-06 Test RCN loss 2.4743809262872674e-05\n",
            "Current epoch : 15\n"
          ]
        },
        {
          "output_type": "stream",
          "name": "stderr",
          "text": [
            "100%|██████████| 1639/1639 [03:41<00:00,  7.39batch/s, loss_classification=1.11e-8, loss_reconstruction=4.84e-6, net_loss=4.85e-6]\n"
          ]
        },
        {
          "output_type": "stream",
          "name": "stdout",
          "text": [
            "99.96030326872184\n"
          ]
        },
        {
          "output_type": "stream",
          "name": "stderr",
          "text": [
            "100%|██████████| 7/7 [00:05<00:00,  1.28batch/s]\n"
          ]
        },
        {
          "output_type": "stream",
          "name": "stdout",
          "text": [
            "Test accuracy 99.97043606799704 Test CE loss 1.1411035854637573e-06 Test RCN loss 9.513830978643714e-06\n",
            "Current epoch : 16\n"
          ]
        },
        {
          "output_type": "stream",
          "name": "stderr",
          "text": [
            "100%|██████████| 1639/1639 [03:41<00:00,  7.41batch/s, loss_classification=6.98e-8, loss_reconstruction=1.28e-5, net_loss=1.29e-5]\n"
          ]
        },
        {
          "output_type": "stream",
          "name": "stdout",
          "text": [
            "99.95362754214052\n"
          ]
        },
        {
          "output_type": "stream",
          "name": "stderr",
          "text": [
            "100%|██████████| 7/7 [00:05<00:00,  1.26batch/s]\n"
          ]
        },
        {
          "output_type": "stream",
          "name": "stdout",
          "text": [
            "Test accuracy 99.90129461411917 Test CE loss 3.8785962845265336e-06 Test RCN loss 1.5504693172780598e-05\n",
            "RUNNING FOLD 4 \n",
            "\n",
            "\n",
            "(1048575, 65)\n",
            "/n/n/n Currently running fold 4\n",
            "Creating new model instance..\n",
            "Current epoch : 1\n"
          ]
        },
        {
          "output_type": "stream",
          "name": "stderr",
          "text": [
            "100%|██████████| 1639/1639 [03:42<00:00,  7.36batch/s, loss_classification=0.000294, loss_reconstruction=0.00172, net_loss=0.00201]\n"
          ]
        },
        {
          "output_type": "stream",
          "name": "stdout",
          "text": [
            "98.5973821615049\n"
          ]
        },
        {
          "output_type": "stream",
          "name": "stderr",
          "text": [
            "100%|██████████| 7/7 [00:05<00:00,  1.34batch/s]\n"
          ]
        },
        {
          "output_type": "stream",
          "name": "stdout",
          "text": [
            "Test accuracy 99.64284862789977 Test CE loss 0.00017141580091057613 Test RCN loss 0.0015422299204926407\n",
            "New best model found 0.0  --->  99.64284862789977 \n",
            "Saving model\n",
            "Current epoch : 2\n"
          ]
        },
        {
          "output_type": "stream",
          "name": "stderr",
          "text": [
            "100%|██████████| 1639/1639 [03:41<00:00,  7.41batch/s, loss_classification=4.01e-5, loss_reconstruction=0.000111, net_loss=0.000151]\n"
          ]
        },
        {
          "output_type": "stream",
          "name": "stdout",
          "text": [
            "99.74489187707127\n"
          ]
        },
        {
          "output_type": "stream",
          "name": "stderr",
          "text": [
            "100%|██████████| 7/7 [00:05<00:00,  1.23batch/s]\n"
          ]
        },
        {
          "output_type": "stream",
          "name": "stdout",
          "text": [
            "Test accuracy 99.83024580978947 Test CE loss 1.849938468824673e-05 Test RCN loss 0.0001175001754225897\n",
            "New best model found 99.64284862789977  --->  99.83024580978947 \n",
            "Saving model\n",
            "Current epoch : 3\n"
          ]
        },
        {
          "output_type": "stream",
          "name": "stderr",
          "text": [
            "100%|██████████| 1639/1639 [03:41<00:00,  7.40batch/s, loss_classification=2.37e-7, loss_reconstruction=2.17e-5, net_loss=2.19e-5]\n"
          ]
        },
        {
          "output_type": "stream",
          "name": "stdout",
          "text": [
            "99.8723267291324\n"
          ]
        },
        {
          "output_type": "stream",
          "name": "stderr",
          "text": [
            "100%|██████████| 7/7 [00:05<00:00,  1.34batch/s]\n"
          ]
        },
        {
          "output_type": "stream",
          "name": "stdout",
          "text": [
            "Test accuracy 99.88985051140834 Test CE loss 8.234160239745897e-06 Test RCN loss 4.897720126401899e-05\n",
            "New best model found 99.83024580978947  --->  99.88985051140834 \n",
            "Saving model\n",
            "Current epoch : 4\n"
          ]
        },
        {
          "output_type": "stream",
          "name": "stderr",
          "text": [
            "100%|██████████| 1639/1639 [03:44<00:00,  7.31batch/s, loss_classification=3.74e-7, loss_reconstruction=3.18e-5, net_loss=3.22e-5]\n"
          ]
        },
        {
          "output_type": "stream",
          "name": "stdout",
          "text": [
            "99.90260591755478\n"
          ]
        },
        {
          "output_type": "stream",
          "name": "stderr",
          "text": [
            "100%|██████████| 7/7 [00:05<00:00,  1.24batch/s]\n"
          ]
        },
        {
          "output_type": "stream",
          "name": "stdout",
          "text": [
            "Test accuracy 99.95517726438261 Test CE loss 2.9238614648160625e-06 Test RCN loss 4.7565319359169477e-05\n",
            "New best model found 99.88985051140834  --->  99.95517726438261 \n",
            "Saving model\n",
            "Current epoch : 5\n"
          ]
        },
        {
          "output_type": "stream",
          "name": "stderr",
          "text": [
            "100%|██████████| 1639/1639 [03:45<00:00,  7.28batch/s, loss_classification=1.05e-7, loss_reconstruction=4.02e-5, net_loss=4.03e-5]\n"
          ]
        },
        {
          "output_type": "stream",
          "name": "stdout",
          "text": [
            "99.93669980688077\n"
          ]
        },
        {
          "output_type": "stream",
          "name": "stderr",
          "text": [
            "100%|██████████| 7/7 [00:06<00:00,  1.11batch/s]\n"
          ]
        },
        {
          "output_type": "stream",
          "name": "stdout",
          "text": [
            "Test accuracy 99.95994564051213 Test CE loss 1.397124086517059e-06 Test RCN loss 5.4737615365801116e-05\n",
            "New best model found 99.95517726438261  --->  99.95994564051213 \n",
            "Saving model\n",
            "Current epoch : 6\n"
          ]
        },
        {
          "output_type": "stream",
          "name": "stderr",
          "text": [
            "100%|██████████| 1639/1639 [03:44<00:00,  7.31batch/s, loss_classification=3.59e-7, loss_reconstruction=2.89e-5, net_loss=2.93e-5]\n"
          ]
        },
        {
          "output_type": "stream",
          "name": "stdout",
          "text": [
            "99.93288510597716\n"
          ]
        },
        {
          "output_type": "stream",
          "name": "stderr",
          "text": [
            "100%|██████████| 7/7 [00:07<00:00,  1.12s/batch]\n"
          ]
        },
        {
          "output_type": "stream",
          "name": "stdout",
          "text": [
            "Test accuracy 99.95136256347901 Test CE loss 1.1718266494296716e-06 Test RCN loss 2.5027877200045623e-05\n",
            "Current epoch : 7\n"
          ]
        },
        {
          "output_type": "stream",
          "name": "stderr",
          "text": [
            "100%|██████████| 1639/1639 [03:42<00:00,  7.36batch/s, loss_classification=1.88e-5, loss_reconstruction=1.38e-5, net_loss=3.26e-5]\n"
          ]
        },
        {
          "output_type": "stream",
          "name": "stdout",
          "text": [
            "99.9285935674606\n"
          ]
        },
        {
          "output_type": "stream",
          "name": "stderr",
          "text": [
            "100%|██████████| 7/7 [00:05<00:00,  1.28batch/s]\n"
          ]
        },
        {
          "output_type": "stream",
          "name": "stdout",
          "text": [
            "Test accuracy 99.91035452876524 Test CE loss 4.9705183430757775e-06 Test RCN loss 1.967765950082269e-05\n",
            "Current epoch : 8\n"
          ]
        },
        {
          "output_type": "stream",
          "name": "stderr",
          "text": [
            "100%|██████████| 1639/1639 [03:42<00:00,  7.37batch/s, loss_classification=5.53e-9, loss_reconstruction=1.25e-5, net_loss=1.25e-5]\n"
          ]
        },
        {
          "output_type": "stream",
          "name": "stdout",
          "text": [
            "99.92632858879908\n"
          ]
        },
        {
          "output_type": "stream",
          "name": "stderr",
          "text": [
            "100%|██████████| 7/7 [00:05<00:00,  1.29batch/s]\n"
          ]
        },
        {
          "output_type": "stream",
          "name": "stdout",
          "text": [
            "Test accuracy 99.95660777722146 Test CE loss 1.2567932198440497e-06 Test RCN loss 1.790548438813338e-05\n",
            "Current epoch : 9\n"
          ]
        },
        {
          "output_type": "stream",
          "name": "stderr",
          "text": [
            "100%|██████████| 1639/1639 [03:42<00:00,  7.37batch/s, loss_classification=7.37e-8, loss_reconstruction=1.8e-5, net_loss=1.8e-5]\n"
          ]
        },
        {
          "output_type": "stream",
          "name": "stdout",
          "text": [
            "99.94111055480056\n"
          ]
        },
        {
          "output_type": "stream",
          "name": "stderr",
          "text": [
            "100%|██████████| 7/7 [00:05<00:00,  1.33batch/s]\n"
          ]
        },
        {
          "output_type": "stream",
          "name": "stdout",
          "text": [
            "Test accuracy 99.97234341844884 Test CE loss 1.6005030667136971e-06 Test RCN loss 1.7647406821197364e-05\n",
            "New best model found 99.95994564051213  --->  99.97234341844884 \n",
            "Saving model\n",
            "Current epoch : 10\n"
          ]
        },
        {
          "output_type": "stream",
          "name": "stderr",
          "text": [
            "100%|██████████| 1639/1639 [03:41<00:00,  7.38batch/s, loss_classification=3.85e-8, loss_reconstruction=4.18e-5, net_loss=4.18e-5]\n"
          ]
        },
        {
          "output_type": "stream",
          "name": "stdout",
          "text": [
            "99.92895119567031\n"
          ]
        },
        {
          "output_type": "stream",
          "name": "stderr",
          "text": [
            "100%|██████████| 7/7 [00:05<00:00,  1.30batch/s]\n"
          ]
        },
        {
          "output_type": "stream",
          "name": "stdout",
          "text": [
            "Test accuracy 99.94134897360703 Test CE loss 3.0847718822509966e-06 Test RCN loss 2.5731001837162433e-05\n",
            "Current epoch : 11\n"
          ]
        },
        {
          "output_type": "stream",
          "name": "stderr",
          "text": [
            "100%|██████████| 1639/1639 [03:45<00:00,  7.26batch/s, loss_classification=5.48e-6, loss_reconstruction=5.1e-5, net_loss=5.65e-5]\n"
          ]
        },
        {
          "output_type": "stream",
          "name": "stdout",
          "text": [
            "99.93646138807429\n"
          ]
        },
        {
          "output_type": "stream",
          "name": "stderr",
          "text": [
            "100%|██████████| 7/7 [00:05<00:00,  1.27batch/s]\n"
          ]
        },
        {
          "output_type": "stream",
          "name": "stdout",
          "text": [
            "Test accuracy 99.96137615335098 Test CE loss 9.370883325183448e-07 Test RCN loss 1.5764420563105625e-05\n",
            "Current epoch : 12\n"
          ]
        },
        {
          "output_type": "stream",
          "name": "stderr",
          "text": [
            "100%|██████████| 1639/1639 [03:45<00:00,  7.25batch/s, loss_classification=8.2e-10, loss_reconstruction=1.66e-5, net_loss=1.66e-5]\n"
          ]
        },
        {
          "output_type": "stream",
          "name": "stdout",
          "text": [
            "99.95315070452757\n"
          ]
        },
        {
          "output_type": "stream",
          "name": "stderr",
          "text": [
            "100%|██████████| 7/7 [00:05<00:00,  1.24batch/s]\n"
          ]
        },
        {
          "output_type": "stream",
          "name": "stdout",
          "text": [
            "Test accuracy 99.97091290560999 Test CE loss 6.350857972847734e-07 Test RCN loss 1.2153301733113559e-05\n",
            "Current epoch : 13\n"
          ]
        },
        {
          "output_type": "stream",
          "name": "stderr",
          "text": [
            "100%|██████████| 1639/1639 [03:46<00:00,  7.23batch/s, loss_classification=7.69e-8, loss_reconstruction=1.02e-5, net_loss=1.03e-5]\n"
          ]
        },
        {
          "output_type": "stream",
          "name": "stdout",
          "text": [
            "99.97067448680352\n"
          ]
        },
        {
          "output_type": "stream",
          "name": "stderr",
          "text": [
            "100%|██████████| 7/7 [00:05<00:00,  1.26batch/s]\n"
          ]
        },
        {
          "output_type": "stream",
          "name": "stdout",
          "text": [
            "Test accuracy 99.9279975204444 Test CE loss 2.4463201790630203e-06 Test RCN loss 1.3787727376828635e-05\n",
            "Current epoch : 14\n"
          ]
        },
        {
          "output_type": "stream",
          "name": "stderr",
          "text": [
            "100%|██████████| 1639/1639 [03:45<00:00,  7.26batch/s, loss_classification=3.14e-7, loss_reconstruction=6.3e-6, net_loss=6.62e-6]\n"
          ]
        },
        {
          "output_type": "stream",
          "name": "stdout",
          "text": [
            "99.953865960947\n"
          ]
        },
        {
          "output_type": "stream",
          "name": "stderr",
          "text": [
            "100%|██████████| 7/7 [00:05<00:00,  1.32batch/s]\n"
          ]
        },
        {
          "output_type": "stream",
          "name": "stdout",
          "text": [
            "Test accuracy 99.95374675154376 Test CE loss 8.423478448094102e-07 Test RCN loss 8.594036704120559e-06\n",
            "Current epoch : 15\n"
          ]
        },
        {
          "output_type": "stream",
          "name": "stderr",
          "text": [
            "100%|██████████| 1639/1639 [03:46<00:00,  7.23batch/s, loss_classification=3.07e-7, loss_reconstruction=3.43e-6, net_loss=3.74e-6]\n"
          ]
        },
        {
          "output_type": "stream",
          "name": "stdout",
          "text": [
            "99.97198579023913\n"
          ]
        },
        {
          "output_type": "stream",
          "name": "stderr",
          "text": [
            "100%|██████████| 7/7 [00:05<00:00,  1.31batch/s]\n"
          ]
        },
        {
          "output_type": "stream",
          "name": "stdout",
          "text": [
            "Test accuracy 99.94039529838113 Test CE loss 2.2450157237991723e-06 Test RCN loss 6.3329748627438676e-06\n",
            "Current epoch : 16\n"
          ]
        },
        {
          "output_type": "stream",
          "name": "stderr",
          "text": [
            "100%|██████████| 1639/1639 [03:45<00:00,  7.27batch/s, loss_classification=3.17e-7, loss_reconstruction=6.85e-6, net_loss=7.17e-6]\n"
          ]
        },
        {
          "output_type": "stream",
          "name": "stdout",
          "text": [
            "99.94599814033332\n"
          ]
        },
        {
          "output_type": "stream",
          "name": "stderr",
          "text": [
            "100%|██████████| 7/7 [00:05<00:00,  1.27batch/s]"
          ]
        },
        {
          "output_type": "stream",
          "name": "stdout",
          "text": [
            "Test accuracy 99.98950957251508 Test CE loss 3.731435396860304e-07 Test RCN loss 1.0264509520701332e-05\n",
            "New best model found 99.97234341844884  --->  99.98950957251508 \n",
            "Saving model\n",
            "Out of fold accuracy is 39.99246596571537\n"
          ]
        },
        {
          "output_type": "stream",
          "name": "stderr",
          "text": [
            "\n"
          ]
        }
      ]
    },
    {
      "cell_type": "markdown",
      "source": [
        "**Out of fold predictions:**"
      ],
      "metadata": {
        "id": "Obuwv2cSzDZW"
      }
    },
    {
      "cell_type": "code",
      "source": [
        "#### out of fold predictions\n",
        "def predictor(targets = targets , ax = ax):\n",
        "  H = splitter.split(X = X , y = targets)\n",
        "  criterion1 = nn.MSELoss()\n",
        "  criterion2 = FocalLoss(gamma = 2)\n",
        "  targets_x = []\n",
        "  scores =  []\n",
        "  compressed = []\n",
        "  i = 0\n",
        "  loss_r = 0.0\n",
        "  loss_c = 0.0\n",
        "  for fold,(trainind,testind) in enumerate(H):\n",
        "    model = model_maker().to(device)\n",
        "    model.load_state_dict(torch.load(f'/content/drive/MyDrive/cs231n/best_model_new_fold_{fold}.pth',map_location=torch.device(device)))\n",
        "    scaler = mms()\n",
        "    ax_copy = ax.copy()\n",
        "    ax[trainind] = scaler.fit_transform(ax[trainind])\n",
        "    ax[testind]  = scaler.transform(ax[testind])\n",
        "    X_train = np.concatenate([ax,cat_features],axis = 1)\n",
        "    ax = ax_copy\n",
        "    print(X_train.shape)\n",
        "    #H = splitter.split(X = ax , y = targets)\n",
        "    iot_dataset= iot_data(sample = X_train, targets = targets)\n",
        "    \n",
        "    \n",
        "    test_subsampler = torch.utils.data.SubsetRandomSampler(testind)\n",
        "   \n",
        "    testloader = torch.utils.data.DataLoader(\n",
        "                      iot_dataset,\n",
        "                      batch_size=4096*16, sampler=test_subsampler)\n",
        "  \n",
        "    with torch.no_grad():\n",
        "          model.eval()\n",
        "          with tqdm(testloader,unit = \"batch\") as tepoch:\n",
        "            for data,target in tepoch:\n",
        "              data = data.to(device)\n",
        "              target = target.to(device)\n",
        "              target = torch.reshape(target,(target.shape[0],))\n",
        "              o1,o2,x = model(data)\n",
        "              loss_classification = criterion2(o1,target) \n",
        "              loss_reconstruction = criterion1(o2,data)\n",
        "              compressed.append(x.detach().cpu().numpy())\n",
        "              targets_x.append(target.detach().cpu().numpy())\n",
        "              scores.append(o1.detach().cpu().numpy())\n",
        "              loss_r+=loss_reconstruction.item()\n",
        "              loss_c+=loss_classification.item()\n",
        "              i+=1\n",
        "              del o1,o2,target,data,x\n",
        "  loss_r/=i\n",
        "  loss_c/=i\n",
        "  compressed = np.concatenate(compressed,axis = 0)\n",
        "  targets_x = np.concatenate(targets_x , axis = 0)\n",
        "  scores = np.argmax(np.concatenate(scores,axis = 0) , axis = 1)\n",
        "  return loss_r , loss_c ,targets_x , scores , compressed\n",
        "\n"
      ],
      "metadata": {
        "id": "S6hCbZF4betR"
      },
      "execution_count": null,
      "outputs": []
    },
    {
      "cell_type": "code",
      "source": [
        "\n",
        "l1,l2 , a1 , a2,cm = predictor()"
      ],
      "metadata": {
        "colab": {
          "base_uri": "https://localhost:8080/"
        },
        "id": "BIXcHsgNhWXF",
        "outputId": "acf5a60f-1a4d-4dd0-cfba-c6d35d9754fb"
      },
      "execution_count": null,
      "outputs": [
        {
          "output_type": "stream",
          "name": "stdout",
          "text": [
            "(1048575, 65)\n"
          ]
        },
        {
          "output_type": "stream",
          "name": "stderr",
          "text": [
            "100%|██████████| 4/4 [00:05<00:00,  1.39s/batch]\n"
          ]
        },
        {
          "output_type": "stream",
          "name": "stdout",
          "text": [
            "(1048575, 65)\n"
          ]
        },
        {
          "output_type": "stream",
          "name": "stderr",
          "text": [
            "100%|██████████| 4/4 [00:05<00:00,  1.41s/batch]\n"
          ]
        },
        {
          "output_type": "stream",
          "name": "stdout",
          "text": [
            "(1048575, 65)\n"
          ]
        },
        {
          "output_type": "stream",
          "name": "stderr",
          "text": [
            "100%|██████████| 4/4 [00:08<00:00,  2.20s/batch]\n"
          ]
        },
        {
          "output_type": "stream",
          "name": "stdout",
          "text": [
            "(1048575, 65)\n"
          ]
        },
        {
          "output_type": "stream",
          "name": "stderr",
          "text": [
            "100%|██████████| 4/4 [00:05<00:00,  1.38s/batch]\n"
          ]
        },
        {
          "output_type": "stream",
          "name": "stdout",
          "text": [
            "(1048575, 65)\n"
          ]
        },
        {
          "output_type": "stream",
          "name": "stderr",
          "text": [
            "100%|██████████| 4/4 [00:05<00:00,  1.36s/batch]\n"
          ]
        }
      ]
    },
    {
      "cell_type": "code",
      "source": [
        "matthews_corrcoef(a1, a2)"
      ],
      "metadata": {
        "colab": {
          "base_uri": "https://localhost:8080/"
        },
        "id": "EDP7iVwfbnNd",
        "outputId": "f470855f-9bb5-4453-eb6a-a9e741aa37e1"
      },
      "execution_count": null,
      "outputs": [
        {
          "output_type": "execute_result",
          "data": {
            "text/plain": [
              "0.9994625807064286"
            ]
          },
          "metadata": {},
          "execution_count": 32
        }
      ]
    },
    {
      "cell_type": "code",
      "source": [
        "print(l1,l2)"
      ],
      "metadata": {
        "colab": {
          "base_uri": "https://localhost:8080/"
        },
        "id": "P4OP_2iznkif",
        "outputId": "25d2716d-1565-4f06-b9e7-66a1d057c5bd"
      },
      "execution_count": null,
      "outputs": [
        {
          "output_type": "stream",
          "name": "stdout",
          "text": [
            "1.7225646661245265e-05 1.1695080431195492e-06\n"
          ]
        }
      ]
    },
    {
      "cell_type": "code",
      "source": [
        "print(np.mean(a1 == a2)*100)"
      ],
      "metadata": {
        "colab": {
          "base_uri": "https://localhost:8080/"
        },
        "id": "5HZxJ_hqbqtd",
        "outputId": "448105e7-8c25-4db1-d5ed-f5a6c9f90421"
      },
      "execution_count": null,
      "outputs": [
        {
          "output_type": "stream",
          "name": "stdout",
          "text": [
            "99.97158047826812\n"
          ]
        }
      ]
    },
    {
      "cell_type": "code",
      "source": [
        "df = pd.DataFrame(cm)\n",
        "df.to_csv('/content/drive/MyDrive/cs231n/test_1.csv')"
      ],
      "metadata": {
        "id": "T4oMksWWGL3g"
      },
      "execution_count": null,
      "outputs": []
    },
    {
      "cell_type": "code",
      "source": [
        "\n",
        "import seaborn as sns\n",
        "from sklearn.metrics import confusion_matrix\n",
        "cm = confusion_matrix(a1, a2)\n",
        "cm_df = pd.DataFrame(cm,\n",
        "                     index = ['Benign','FTP-BruteForce','SSH-BruteForce'], \n",
        "                     columns =['Benign','FTP-BruteForce','SSH-BruteForce'])\n",
        " \n",
        "#Plotting the confusion matrix\n",
        "for i in range(3):\n",
        "  cm_df.iloc[i]/= np.sum(a1 == i)\n",
        "  cm_df.iloc[i]*=100.00000\n",
        "plt.figure(figsize=(10,8))\n",
        "sns.heatmap(cm_df, annot=True ,fmt = '.6g')\n",
        "plt.title('Confusion Matrix')\n",
        "plt.ylabel('Actual Values')\n",
        "plt.xlabel('Predicted Values')\n",
        "plt.savefig(\"/content/drive/MyDrive/cs231n/confused_2.png\")\n",
        "plt.show()\n"
      ],
      "metadata": {
        "colab": {
          "base_uri": "https://localhost:8080/",
          "height": 513
        },
        "id": "B0E9uMjbb6cn",
        "outputId": "c8e9a88f-8fd2-40d7-8679-09fff7ae4b0e"
      },
      "execution_count": null,
      "outputs": [
        {
          "output_type": "display_data",
          "data": {
            "text/plain": [
              "<Figure size 720x576 with 2 Axes>"
            ],
            "image/png": "[encoded data removed]"
          },
          "metadata": {
            "needs_background": "light"
          }
        }
      ]
    }
  ]
}